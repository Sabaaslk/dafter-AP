{
 "cells": [
  {
   "cell_type": "markdown",
   "id": "e2d0e643-0507-4870-86f0-4df282589970",
   "metadata": {},
   "source": [
    "# camel case"
   ]
  },
  {
   "cell_type": "markdown",
   "id": "42fd7a02-5562-4395-85ab-db76637c2089",
   "metadata": {},
   "source": [
    "## myNameIs noe neveshteh"
   ]
  },
  {
   "cell_type": "markdown",
   "id": "85b17b76-37c1-4554-80a8-4d2301747f5d",
   "metadata": {},
   "source": [
    "# snake case"
   ]
  },
  {
   "cell_type": "markdown",
   "id": "47b7c67b-6a47-4f1f-af2d-6c4bc9de69b1",
   "metadata": {},
   "source": [
    "## my_name_is"
   ]
  },
  {
   "cell_type": "markdown",
   "id": "ecea0999-b567-415e-8054-0fbb2e89a770",
   "metadata": {},
   "source": [
    "## camel case"
   ]
  },
  {
   "cell_type": "code",
   "execution_count": 6,
   "id": "68e3a38a-f368-49b5-98d1-33c7e5b1537b",
   "metadata": {},
   "outputs": [
    {
     "name": "stdout",
     "output_type": "stream",
     "text": [
      "saba\n"
     ]
    }
   ],
   "source": [
    "MyNameIs = 'saba'\n",
    "print (MyNameIs)"
   ]
  },
  {
   "cell_type": "code",
   "execution_count": 7,
   "id": "ea15f04d-fd5d-4390-8f27-9f936300aaa2",
   "metadata": {},
   "outputs": [
    {
     "data": {
      "text/plain": [
       "4"
      ]
     },
     "execution_count": 7,
     "metadata": {},
     "output_type": "execute_result"
    }
   ],
   "source": [
    "len(MyNameIs)"
   ]
  },
  {
   "cell_type": "code",
   "execution_count": 10,
   "id": "a85e875c-7448-4794-8cc2-dbb2fc0860fb",
   "metadata": {},
   "outputs": [
    {
     "name": "stdout",
     "output_type": "stream",
     "text": [
      "s\n"
     ]
    }
   ],
   "source": [
    "print (MyNameIs[0])"
   ]
  },
  {
   "cell_type": "code",
   "execution_count": 12,
   "id": "8adce065-3c23-4e92-823c-c921d6804a38",
   "metadata": {},
   "outputs": [
    {
     "data": {
      "text/plain": [
       "'s'"
      ]
     },
     "execution_count": 12,
     "metadata": {},
     "output_type": "execute_result"
    }
   ],
   "source": [
    "MyNameIs[0]"
   ]
  },
  {
   "cell_type": "markdown",
   "id": "867668d0-1fa7-4327-8349-4961077b4827",
   "metadata": {},
   "source": [
    "### for the last part because the numbers starts from 0 the last character is the number of len -1 or (-1)"
   ]
  },
  {
   "cell_type": "code",
   "execution_count": 15,
   "id": "4c1d0f80-38ec-413c-859f-c8645c7171be",
   "metadata": {},
   "outputs": [
    {
     "data": {
      "text/plain": [
       "'a'"
      ]
     },
     "execution_count": 15,
     "metadata": {},
     "output_type": "execute_result"
    }
   ],
   "source": [
    "MyNameIs[-1]"
   ]
  },
  {
   "cell_type": "code",
   "execution_count": 17,
   "id": "30c54c32-51d9-4100-b4b6-a48b6a5f480c",
   "metadata": {},
   "outputs": [
    {
     "data": {
      "text/plain": [
       "'a'"
      ]
     },
     "execution_count": 17,
     "metadata": {},
     "output_type": "execute_result"
    }
   ],
   "source": [
    "MyNameIs[3]"
   ]
  },
  {
   "cell_type": "code",
   "execution_count": 19,
   "id": "f6af21e2-0395-483a-b2e8-f8116bfc0c4d",
   "metadata": {},
   "outputs": [
    {
     "data": {
      "text/plain": [
       "'a'"
      ]
     },
     "execution_count": 19,
     "metadata": {},
     "output_type": "execute_result"
    }
   ],
   "source": [
    "MyNameIs[len(MyNameIs)-1]"
   ]
  },
  {
   "cell_type": "code",
   "execution_count": 21,
   "id": "526d0720-16d4-4b9b-b886-960f320c6016",
   "metadata": {},
   "outputs": [
    {
     "data": {
      "text/plain": [
       "'ab'"
      ]
     },
     "execution_count": 21,
     "metadata": {},
     "output_type": "execute_result"
    }
   ],
   "source": [
    "MyNameIs[1:3]"
   ]
  },
  {
   "cell_type": "code",
   "execution_count": 23,
   "id": "a3f5c139-8bfb-4aec-989a-f6f40428e3a3",
   "metadata": {},
   "outputs": [
    {
     "name": "stdout",
     "output_type": "stream",
     "text": [
      "saba sarlak \n"
     ]
    }
   ],
   "source": [
    "family = 'sarlak'\n",
    "FullName = MyNameIs +' '+  family +' '\n",
    "print (FullName)"
   ]
  },
  {
   "cell_type": "code",
   "execution_count": 25,
   "id": "571e58bf-5d07-4fde-8943-e5443486cccc",
   "metadata": {},
   "outputs": [
    {
     "name": "stdout",
     "output_type": "stream",
     "text": [
      "saba sarlak saba sarlak saba sarlak saba sarlak saba sarlak \n"
     ]
    }
   ],
   "source": [
    "print (FullName*5)"
   ]
  },
  {
   "cell_type": "code",
   "execution_count": 27,
   "id": "680bb8d4-eaf2-4efe-8992-c183a948a151",
   "metadata": {},
   "outputs": [
    {
     "data": {
      "text/plain": [
       "1"
      ]
     },
     "execution_count": 27,
     "metadata": {},
     "output_type": "execute_result"
    }
   ],
   "source": [
    "MyNameIs.find('a')"
   ]
  },
  {
   "cell_type": "code",
   "execution_count": 29,
   "id": "06cebff2-490c-4aa5-9375-b582fcef67b3",
   "metadata": {},
   "outputs": [],
   "source": [
    "a=2"
   ]
  },
  {
   "cell_type": "code",
   "execution_count": 31,
   "id": "99278ccc-6a11-421b-92ca-b643620c0c68",
   "metadata": {},
   "outputs": [],
   "source": [
    "b=2"
   ]
  },
  {
   "cell_type": "code",
   "execution_count": 33,
   "id": "b1d25007-b2e6-4422-a836-95e58fadf9ab",
   "metadata": {},
   "outputs": [
    {
     "data": {
      "text/plain": [
       "True"
      ]
     },
     "execution_count": 33,
     "metadata": {},
     "output_type": "execute_result"
    }
   ],
   "source": [
    "a is b"
   ]
  },
  {
   "cell_type": "code",
   "execution_count": 35,
   "id": "7e027b2b-728a-4b25-aada-32bbf26b15f1",
   "metadata": {},
   "outputs": [
    {
     "data": {
      "text/plain": [
       "True"
      ]
     },
     "execution_count": 35,
     "metadata": {},
     "output_type": "execute_result"
    }
   ],
   "source": [
    "a==b"
   ]
  },
  {
   "cell_type": "code",
   "execution_count": 37,
   "id": "8ffdc70e-6aba-47b4-8b6c-f5c59b13ee31",
   "metadata": {},
   "outputs": [
    {
     "data": {
      "text/plain": [
       "True"
      ]
     },
     "execution_count": 37,
     "metadata": {},
     "output_type": "execute_result"
    }
   ],
   "source": [
    "a=2\n",
    "b=2 \n",
    "a is b"
   ]
  },
  {
   "cell_type": "code",
   "execution_count": 39,
   "id": "cc80adb8-0e67-4180-a779-6a0a9669d74e",
   "metadata": {},
   "outputs": [
    {
     "data": {
      "text/plain": [
       "True"
      ]
     },
     "execution_count": 39,
     "metadata": {},
     "output_type": "execute_result"
    }
   ],
   "source": [
    "a==b"
   ]
  },
  {
   "cell_type": "code",
   "execution_count": 41,
   "id": "d31f69a3-1394-4fc8-865c-f5459f5b10ae",
   "metadata": {},
   "outputs": [
    {
     "name": "stdout",
     "output_type": "stream",
     "text": [
      "eli sarlak \n"
     ]
    }
   ],
   "source": [
    "MyfriendsName= 'eli'\n",
    "fullName = FullName.replace( MyNameIs,MyfriendsName) \n",
    "print (fullName)"
   ]
  },
  {
   "cell_type": "code",
   "execution_count": 43,
   "id": "2d9d5fb9-f321-4228-9ab5-8e46a7f3d37b",
   "metadata": {},
   "outputs": [
    {
     "name": "stdout",
     "output_type": "stream",
     "text": [
      "eli ahmad \n"
     ]
    }
   ],
   "source": [
    "Faa = 'ahmad'\n",
    "sisi= fullName.replace(family,Faa)\n",
    "print (sisi)"
   ]
  },
  {
   "cell_type": "code",
   "execution_count": 45,
   "id": "e3f09085-2b5c-4f16-87c8-c549a630aa2e",
   "metadata": {},
   "outputs": [
    {
     "data": {
      "text/plain": [
       "'SABA'"
      ]
     },
     "execution_count": 45,
     "metadata": {},
     "output_type": "execute_result"
    }
   ],
   "source": [
    "MyNameIs.upper()"
   ]
  },
  {
   "cell_type": "code",
   "execution_count": 47,
   "id": "70926d7e-b760-4b45-a40d-55bf3f5729c4",
   "metadata": {},
   "outputs": [
    {
     "data": {
      "text/plain": [
       "True"
      ]
     },
     "execution_count": 47,
     "metadata": {},
     "output_type": "execute_result"
    }
   ],
   "source": [
    "MyNameIs.isalpha()"
   ]
  },
  {
   "cell_type": "code",
   "execution_count": 49,
   "id": "ab89e7c8-ae9c-49e9-855a-fb1753a1aa61",
   "metadata": {},
   "outputs": [
    {
     "data": {
      "text/plain": [
       "False"
      ]
     },
     "execution_count": 49,
     "metadata": {},
     "output_type": "execute_result"
    }
   ],
   "source": [
    "adress= 'mmcnend33'\n",
    "adress.isalpha ()"
   ]
  },
  {
   "cell_type": "code",
   "execution_count": 51,
   "id": "cf43f64c-f139-4c15-8a7c-c72a2895a7ea",
   "metadata": {},
   "outputs": [
    {
     "data": {
      "text/plain": [
       "['saba', 'sarlak']"
      ]
     },
     "execution_count": 51,
     "metadata": {},
     "output_type": "execute_result"
    }
   ],
   "source": [
    "FullName.split()"
   ]
  },
  {
   "cell_type": "code",
   "execution_count": 53,
   "id": "de028557-b494-4cb6-8cc9-d08734cd1166",
   "metadata": {},
   "outputs": [
    {
     "data": {
      "text/plain": [
       "['17', '47', '33']"
      ]
     },
     "execution_count": 53,
     "metadata": {},
     "output_type": "execute_result"
    }
   ],
   "source": [
    "time = '17:47:33'\n",
    "time.split(\":\")"
   ]
  },
  {
   "cell_type": "code",
   "execution_count": 55,
   "id": "15fbefc2-5f0a-44d8-8ba6-3ff7c2833b2e",
   "metadata": {},
   "outputs": [
    {
     "name": "stdout",
     "output_type": "stream",
     "text": [
      "my name is short\n"
     ]
    }
   ],
   "source": [
    "myName = 'saba' \n",
    "if  len(myName)>= 5:\n",
    "    print ('my name is long')\n",
    "else : \n",
    "    print ('my name is short')"
   ]
  },
  {
   "cell_type": "code",
   "execution_count": 57,
   "id": "0bfb292f-2cfa-489f-99a5-7c332ea05760",
   "metadata": {},
   "outputs": [],
   "source": [
    "inputName = 'amiralii'"
   ]
  },
  {
   "cell_type": "code",
   "execution_count": 59,
   "id": "239fa854-f2e9-4dfe-867e-96b7fb8be53e",
   "metadata": {},
   "outputs": [
    {
     "name": "stdout",
     "output_type": "stream",
     "text": [
      "my name is long\n"
     ]
    }
   ],
   "source": [
    "if len(inputName)>=5 :\n",
    "    print ('my name is long')\n",
    "elif len(inputName)<=5 and len(inputName)>3 :\n",
    "    print ('my name is medium')\n",
    "else :\n",
    "    print('my name is short')"
   ]
  },
  {
   "cell_type": "code",
   "execution_count": 61,
   "id": "1a072ddf-28c0-41b7-bf69-2955104ac8b4",
   "metadata": {},
   "outputs": [],
   "source": [
    "inputAge = 17"
   ]
  },
  {
   "cell_type": "code",
   "execution_count": 63,
   "id": "2cadbe1b-692a-4fb7-bab8-fc4bc7c53749",
   "metadata": {},
   "outputs": [
    {
     "name": "stdout",
     "output_type": "stream",
     "text": [
      "kocholo fard\n"
     ]
    }
   ],
   "source": [
    "if inputAge >20:\n",
    "    if not inputAge % 2:\n",
    "        print ('sen zoje')\n",
    "    else :\n",
    "        print ('sen farde')\n",
    "else: \n",
    "    if not inputAge % 2 :\n",
    "        print ('kocholo zoj')\n",
    "    else: \n",
    "        print (\"kocholo fard\")\n",
    "    "
   ]
  },
  {
   "cell_type": "markdown",
   "id": "2bdc449b-ab3d-4fb8-a232-84b88e731d16",
   "metadata": {},
   "source": [
    "## if not = 0 bianary numbers (false)"
   ]
  },
  {
   "cell_type": "markdown",
   "id": "3bdf4dbc-2583-4115-b94e-17677e43cf10",
   "metadata": {},
   "source": [
    "## if =1 (true)"
   ]
  },
  {
   "cell_type": "markdown",
   "id": "c36d48d4-1dca-4b36-be74-875ea430e529",
   "metadata": {},
   "source": [
    "# tempint while loop"
   ]
  },
  {
   "cell_type": "code",
   "execution_count": 68,
   "id": "3674cf92-c3db-4bb1-b06a-a4519faabcf3",
   "metadata": {},
   "outputs": [
    {
     "name": "stdout",
     "output_type": "stream",
     "text": [
      "3\n",
      "2\n",
      "1\n"
     ]
    }
   ],
   "source": [
    "tempInt = 3\n",
    "while tempInt > 0:\n",
    "    print (tempInt)\n",
    "    tempInt -= 1     # tempInt = tempInt - 1"
   ]
  },
  {
   "cell_type": "markdown",
   "id": "e402d7af-bccb-46f6-a5ca-62593da02f09",
   "metadata": {},
   "source": [
    "## fibonacci"
   ]
  },
  {
   "cell_type": "markdown",
   "id": "e9ab6465-c87f-4b19-8abc-fbfc9bbbb6c6",
   "metadata": {},
   "source": [
    "### Q1. fibonacci <100     (homework)"
   ]
  },
  {
   "cell_type": "markdown",
   "id": "71e78918-1582-4a6a-ac5c-124214301a87",
   "metadata": {},
   "source": [
    "### Q2. n-th prime number "
   ]
  },
  {
   "cell_type": "code",
   "execution_count": 73,
   "id": "f0c8d21f-1e47-460b-91fc-7079d50c56aa",
   "metadata": {},
   "outputs": [],
   "source": [
    "n= 20 \n"
   ]
  },
  {
   "cell_type": "markdown",
   "id": "bb110168-350c-4c09-8394-1499e45c53a5",
   "metadata": {},
   "source": [
    "### Q3.check p is prime or not?"
   ]
  },
  {
   "cell_type": "code",
   "execution_count": 76,
   "id": "ad32672c-891a-40ee-839c-2a0e572b1f64",
   "metadata": {},
   "outputs": [
    {
     "name": "stdout",
     "output_type": "stream",
     "text": [
      "is prime\n"
     ]
    }
   ],
   "source": [
    "p=19\n",
    "temp =p-1\n",
    "ayaAvalAst = True\n",
    "while  temp >= 2 :\n",
    "    if p % temp == 0  :\n",
    "        ayaAvalAst = False\n",
    "        break\n",
    "    temp-=1\n",
    "if ayaAvalAst : \n",
    "        print ('is prime')\n",
    "else:\n",
    "        print ('is not prime')   "
   ]
  },
  {
   "cell_type": "markdown",
   "id": "e2e0cfd3-ef01-453f-b4f5-ce8d4f1f2259",
   "metadata": {},
   "source": [
    "### while true alway run "
   ]
  },
  {
   "cell_type": "code",
   "execution_count": 79,
   "id": "ff082470-b494-4e21-899d-d4a4034c4604",
   "metadata": {},
   "outputs": [],
   "source": [
    "#while True :\n",
    "   # if 'T' is pressed : \n",
    "       # break"
   ]
  },
  {
   "cell_type": "markdown",
   "id": "9f995965-e549-45d0-a66d-dc536c972198",
   "metadata": {},
   "source": [
    "# for loop"
   ]
  },
  {
   "cell_type": "code",
   "execution_count": 82,
   "id": "9dd526cf-741f-4ec5-be4c-c0c2a538a791",
   "metadata": {},
   "outputs": [
    {
     "name": "stdout",
     "output_type": "stream",
     "text": [
      "0\n",
      "1\n",
      "2\n",
      "3\n",
      "4\n",
      "5\n",
      "6\n",
      "7\n",
      "8\n",
      "9\n"
     ]
    }
   ],
   "source": [
    "for i in range (10): # range 0 ta 9 chon shomaresh az 0 \n",
    "    print (i)"
   ]
  },
  {
   "cell_type": "code",
   "execution_count": 84,
   "id": "7934b89c-c729-4416-bc0e-9072d329c08e",
   "metadata": {},
   "outputs": [
    {
     "name": "stdout",
     "output_type": "stream",
     "text": [
      "10\n"
     ]
    }
   ],
   "source": [
    "sum=0\n",
    "for i in range(5):\n",
    "    sum+=i\n",
    "print (sum)"
   ]
  },
  {
   "cell_type": "code",
   "execution_count": 86,
   "id": "e6853bb0-15cf-438e-811d-8329a70b78f5",
   "metadata": {},
   "outputs": [
    {
     "name": "stdout",
     "output_type": "stream",
     "text": [
      "0\n",
      "1\n",
      "3\n",
      "6\n",
      "10\n"
     ]
    }
   ],
   "source": [
    "sum=0\n",
    "for i in range(5):\n",
    "    sum+=i\n",
    "    print (sum)"
   ]
  },
  {
   "cell_type": "code",
   "execution_count": 88,
   "id": "d6e9ff0a-cd48-4a25-a669-d1bbd7c6c6af",
   "metadata": {},
   "outputs": [
    {
     "name": "stdout",
     "output_type": "stream",
     "text": [
      "i=0,sum=0\n",
      "i=1,sum=1\n",
      "i=2,sum=3\n",
      "i=3,sum=6\n",
      "i=4,sum=10\n",
      "end\n"
     ]
    }
   ],
   "source": [
    "sum=0\n",
    "for i in range(5):\n",
    "    sum+=i\n",
    "    print (\"i=\"+str(i) +\",sum=\" +str(sum))\n",
    "print ('end')"
   ]
  },
  {
   "cell_type": "code",
   "execution_count": 90,
   "id": "e6b17e76-53d3-4e98-ae63-1b42e8070731",
   "metadata": {},
   "outputs": [
    {
     "name": "stdout",
     "output_type": "stream",
     "text": [
      "3628800\n"
     ]
    }
   ],
   "source": [
    "n=10\n",
    "fact=1\n",
    "for i in range (n):\n",
    "    fact=fact*(i+1)\n",
    "print (fact)"
   ]
  },
  {
   "cell_type": "code",
   "execution_count": 92,
   "id": "d6c0959d-a591-4e6f-9d2c-b49528623b8f",
   "metadata": {},
   "outputs": [
    {
     "name": "stdout",
     "output_type": "stream",
     "text": [
      "10\n",
      "20\n",
      "30\n",
      "40\n",
      "50\n",
      "60\n",
      "70\n",
      "80\n",
      "90\n"
     ]
    }
   ],
   "source": [
    "n=10\n",
    "for i in range (1,10):\n",
    "    fact=n*i\n",
    "    print (fact)"
   ]
  },
  {
   "cell_type": "code",
   "execution_count": 94,
   "id": "79b8efe3-8e76-4ff2-8cdf-315adc69e87f",
   "metadata": {},
   "outputs": [
    {
     "name": "stdout",
     "output_type": "stream",
     "text": [
      "1\n",
      "2\n",
      "hop!\n",
      "4\n",
      "5\n",
      "hop!\n",
      "7\n",
      "8\n",
      "hop!\n",
      "10\n",
      "11\n",
      "hop!\n",
      "13\n",
      "14\n",
      "hop!\n",
      "16\n",
      "17\n",
      "hop!\n",
      "19\n",
      "20\n",
      "hop!\n",
      "22\n",
      "23\n",
      "hop!\n",
      "25\n"
     ]
    }
   ],
   "source": [
    "for i in range (1,26): \n",
    "    if i%3==0:\n",
    "        print ('hop!')\n",
    "    else:\n",
    "        print (i)"
   ]
  },
  {
   "cell_type": "markdown",
   "id": "a66c480e-62d5-4b92-948f-7f254960fefc",
   "metadata": {},
   "source": [
    "# lists"
   ]
  },
  {
   "cell_type": "code",
   "execution_count": 97,
   "id": "7a111531-33ca-4e9f-ae5c-9508f8c768d7",
   "metadata": {},
   "outputs": [
    {
     "data": {
      "text/plain": [
       "3"
      ]
     },
     "execution_count": 97,
     "metadata": {},
     "output_type": "execute_result"
    }
   ],
   "source": [
    "templist = [20 , 'saba' , 8.2]\n",
    "len(templist)"
   ]
  },
  {
   "cell_type": "code",
   "execution_count": 99,
   "id": "bf6aff73-4c06-4f9b-ba4e-79c700e863cb",
   "metadata": {},
   "outputs": [
    {
     "data": {
      "text/plain": [
       "'saba'"
      ]
     },
     "execution_count": 99,
     "metadata": {},
     "output_type": "execute_result"
    }
   ],
   "source": [
    "templist[1]"
   ]
  },
  {
   "cell_type": "code",
   "execution_count": 101,
   "id": "1b358990-e6ab-4aff-bda4-d32cf6702c25",
   "metadata": {},
   "outputs": [
    {
     "data": {
      "text/plain": [
       "4"
      ]
     },
     "execution_count": 101,
     "metadata": {},
     "output_type": "execute_result"
    }
   ],
   "source": [
    "len(templist[1])"
   ]
  },
  {
   "cell_type": "code",
   "execution_count": 103,
   "id": "bd72c007-f949-4d6c-a219-8ee07890f987",
   "metadata": {},
   "outputs": [
    {
     "data": {
      "text/plain": [
       "'a'"
      ]
     },
     "execution_count": 103,
     "metadata": {},
     "output_type": "execute_result"
    }
   ],
   "source": [
    "templist[1][3]"
   ]
  },
  {
   "cell_type": "code",
   "execution_count": 105,
   "id": "367b45b1-ae6d-419b-8e21-bc6ae5b4502f",
   "metadata": {},
   "outputs": [
    {
     "ename": "TypeError",
     "evalue": "'int' object is not subscriptable",
     "output_type": "error",
     "traceback": [
      "\u001b[0;31m---------------------------------------------------------------------------\u001b[0m",
      "\u001b[0;31mTypeError\u001b[0m                                 Traceback (most recent call last)",
      "Cell \u001b[0;32mIn[105], line 1\u001b[0m\n\u001b[0;32m----> 1\u001b[0m templist[\u001b[38;5;241m0\u001b[39m][\u001b[38;5;241m1\u001b[39m]\n",
      "\u001b[0;31mTypeError\u001b[0m: 'int' object is not subscriptable"
     ]
    }
   ],
   "source": [
    "templist[0][1]"
   ]
  },
  {
   "cell_type": "markdown",
   "id": "8107c68b-a96f-4e24-a197-0ce8d045afae",
   "metadata": {},
   "source": [
    "## error mide chon string nist int ast"
   ]
  },
  {
   "cell_type": "code",
   "execution_count": null,
   "id": "ae438d38-ac0f-4812-9f83-198250aba1bb",
   "metadata": {},
   "outputs": [],
   "source": [
    "a=36"
   ]
  },
  {
   "cell_type": "code",
   "execution_count": 108,
   "id": "12dc0fc6-2e2a-4a34-9568-2c01301905af",
   "metadata": {},
   "outputs": [
    {
     "data": {
      "text/plain": [
       "'2'"
      ]
     },
     "execution_count": 108,
     "metadata": {},
     "output_type": "execute_result"
    }
   ],
   "source": [
    "str(a)"
   ]
  },
  {
   "cell_type": "code",
   "execution_count": 110,
   "id": "302a946d-3661-41bc-9ee3-d05ec42716d9",
   "metadata": {},
   "outputs": [],
   "source": [
    "pi=3.13"
   ]
  },
  {
   "cell_type": "code",
   "execution_count": 112,
   "id": "6473e2df-fc50-4689-b430-3447a92bb815",
   "metadata": {},
   "outputs": [
    {
     "data": {
      "text/plain": [
       "3"
      ]
     },
     "execution_count": 112,
     "metadata": {},
     "output_type": "execute_result"
    }
   ],
   "source": [
    "int(pi)"
   ]
  },
  {
   "cell_type": "code",
   "execution_count": 114,
   "id": "5a755ee3-6022-4834-8ff0-b267d8e3cbc3",
   "metadata": {},
   "outputs": [],
   "source": [
    "l=2.9999"
   ]
  },
  {
   "cell_type": "code",
   "execution_count": 116,
   "id": "4c6e13b2-a90f-4b80-9c90-9d823f73f532",
   "metadata": {},
   "outputs": [
    {
     "data": {
      "text/plain": [
       "2"
      ]
     },
     "execution_count": 116,
     "metadata": {},
     "output_type": "execute_result"
    }
   ],
   "source": [
    "int(l)"
   ]
  },
  {
   "cell_type": "markdown",
   "id": "bf6c8f0e-f50b-4b10-8349-b289e16e7b70",
   "metadata": {},
   "source": [
    "#### aya mitavan list ra mishe be string tabdil kard ?"
   ]
  },
  {
   "cell_type": "code",
   "execution_count": 119,
   "id": "ee3603ff-4804-4cfb-b29d-c70afce0860a",
   "metadata": {},
   "outputs": [
    {
     "data": {
      "text/plain": [
       "\"[20, 'saba', 8.2]\""
      ]
     },
     "execution_count": 119,
     "metadata": {},
     "output_type": "execute_result"
    }
   ],
   "source": [
    "str(templist)"
   ]
  },
  {
   "cell_type": "code",
   "execution_count": 121,
   "id": "ceb9d0b7-77f7-4867-85b1-089275f5dcab",
   "metadata": {},
   "outputs": [],
   "source": [
    "templist=templist+[2,'programming', 'tiv',7.9]"
   ]
  },
  {
   "cell_type": "code",
   "execution_count": 123,
   "id": "e17777a9-5318-4c74-a8f5-ab7a00bda36d",
   "metadata": {},
   "outputs": [
    {
     "name": "stdout",
     "output_type": "stream",
     "text": [
      "[20, 'saba', 8.2, 2, 'programming', 'tiv', 7.9]\n"
     ]
    }
   ],
   "source": [
    "print(templist)"
   ]
  },
  {
   "cell_type": "code",
   "execution_count": 125,
   "id": "21809359-9ae5-4f43-ace2-83a78d71ac47",
   "metadata": {},
   "outputs": [
    {
     "data": {
      "text/plain": [
       "[20, 'saba', 8.2, 2, 'programming', 'tiv']"
      ]
     },
     "execution_count": 125,
     "metadata": {},
     "output_type": "execute_result"
    }
   ],
   "source": [
    "templist[:-1]"
   ]
  },
  {
   "cell_type": "code",
   "execution_count": 127,
   "id": "64033a3b-9f98-4c95-90be-0b6ced6f66f0",
   "metadata": {},
   "outputs": [
    {
     "data": {
      "text/plain": [
       "['__add__',\n",
       " '__class__',\n",
       " '__class_getitem__',\n",
       " '__contains__',\n",
       " '__delattr__',\n",
       " '__delitem__',\n",
       " '__dir__',\n",
       " '__doc__',\n",
       " '__eq__',\n",
       " '__format__',\n",
       " '__ge__',\n",
       " '__getattribute__',\n",
       " '__getitem__',\n",
       " '__getstate__',\n",
       " '__gt__',\n",
       " '__hash__',\n",
       " '__iadd__',\n",
       " '__imul__',\n",
       " '__init__',\n",
       " '__init_subclass__',\n",
       " '__iter__',\n",
       " '__le__',\n",
       " '__len__',\n",
       " '__lt__',\n",
       " '__mul__',\n",
       " '__ne__',\n",
       " '__new__',\n",
       " '__reduce__',\n",
       " '__reduce_ex__',\n",
       " '__repr__',\n",
       " '__reversed__',\n",
       " '__rmul__',\n",
       " '__setattr__',\n",
       " '__setitem__',\n",
       " '__sizeof__',\n",
       " '__str__',\n",
       " '__subclasshook__',\n",
       " 'append',\n",
       " 'clear',\n",
       " 'copy',\n",
       " 'count',\n",
       " 'extend',\n",
       " 'index',\n",
       " 'insert',\n",
       " 'pop',\n",
       " 'remove',\n",
       " 'reverse',\n",
       " 'sort']"
      ]
     },
     "execution_count": 127,
     "metadata": {},
     "output_type": "execute_result"
    }
   ],
   "source": [
    "dir(templist)"
   ]
  },
  {
   "cell_type": "markdown",
   "id": "f322b32a-2ee9-4370-b05c-c9d034860cd2",
   "metadata": {},
   "source": [
    "##### \n",
    "'append','clear',\n",
    " 'copy',\n",
    " 'count',\n",
    " 'extend',\n",
    " 'index',\n",
    " 'insert',\n",
    " 'pop',\n",
    " 'remove',\n",
    " 'reverse',\n",
    " 'sort']"
   ]
  },
  {
   "cell_type": "code",
   "execution_count": 130,
   "id": "c100fa29-db87-4574-9e28-54862b1193de",
   "metadata": {},
   "outputs": [
    {
     "data": {
      "text/plain": [
       "8.2"
      ]
     },
     "execution_count": 130,
     "metadata": {},
     "output_type": "execute_result"
    }
   ],
   "source": [
    "templist.pop(2)"
   ]
  },
  {
   "cell_type": "code",
   "execution_count": 132,
   "id": "edca6115-2ebb-4f52-96ca-82983da248a2",
   "metadata": {},
   "outputs": [
    {
     "name": "stdout",
     "output_type": "stream",
     "text": [
      "[20, 'saba', 2, 'programming', 'tiv', 7.9]\n"
     ]
    }
   ],
   "source": [
    "print(templist)"
   ]
  },
  {
   "cell_type": "code",
   "execution_count": 134,
   "id": "facf670a-e267-499d-a341-ad824b950e60",
   "metadata": {},
   "outputs": [
    {
     "data": {
      "text/plain": [
       "[20, 22.23, 23, 24, 29, 37, 444]"
      ]
     },
     "execution_count": 134,
     "metadata": {},
     "output_type": "execute_result"
    }
   ],
   "source": [
    "ages=[20,24,444,37,29,23,22.23]\n",
    "ages.sort()\n",
    "ages"
   ]
  },
  {
   "cell_type": "markdown",
   "id": "499d3de9-280b-4d8b-80fd-0d8208576400",
   "metadata": {},
   "source": [
    "# float va int mishe baham baraye sort vali string joda"
   ]
  },
  {
   "cell_type": "code",
   "execution_count": 137,
   "id": "7551fca4-bbd3-43e5-a888-9685801c645a",
   "metadata": {},
   "outputs": [],
   "source": [
    "gooat=['22','23','23.5','b','B','q']"
   ]
  },
  {
   "cell_type": "code",
   "execution_count": 139,
   "id": "084e4e2b-ae53-41f1-bf5e-b96972c9f5e3",
   "metadata": {},
   "outputs": [
    {
     "data": {
      "text/plain": [
       "['22', '23', '23.5', 'B', 'b', 'q']"
      ]
     },
     "execution_count": 139,
     "metadata": {},
     "output_type": "execute_result"
    }
   ],
   "source": [
    "gooat.sort()\n",
    "gooat"
   ]
  },
  {
   "cell_type": "markdown",
   "id": "e6821cf4-9ad7-4239-9aed-8ca048bb140c",
   "metadata": {},
   "source": [
    "# Q.print courses that I passed in decending order"
   ]
  },
  {
   "cell_type": "code",
   "execution_count": 142,
   "id": "c411662e-257b-4ca0-b85e-162f5d72ec72",
   "metadata": {},
   "outputs": [],
   "source": [
    "myScores=[14.5,15,17,19.63,20,4]\n",
    "myCourses=['math','statics','planning','physics','economics','ap']"
   ]
  },
  {
   "cell_type": "code",
   "execution_count": 144,
   "id": "4bb31a5b-cc6f-4b44-8fb8-70239784afe1",
   "metadata": {},
   "outputs": [
    {
     "name": "stdout",
     "output_type": "stream",
     "text": [
      "math=14.5\n",
      "Passed\n",
      "statics=15\n",
      "Passed\n",
      "planning=17\n",
      "Passed\n",
      "physics=19.63\n",
      "Passed\n",
      "economics=20\n",
      "Passed\n",
      "ap=4\n",
      "Failed\n"
     ]
    }
   ],
   "source": [
    "for i in range (len(myScores)):\n",
    "    print (myCourses[i] +'='+ str(myScores[i]))\n",
    "    if myScores[i]>=10: \n",
    "        print ('Passed')\n",
    "    else :\n",
    "        print('Failed')"
   ]
  },
  {
   "cell_type": "code",
   "execution_count": 146,
   "id": "0573b766-289e-49b5-bb16-e9a265227e17",
   "metadata": {},
   "outputs": [
    {
     "ename": "TypeError",
     "evalue": "'list' object cannot be interpreted as an integer",
     "output_type": "error",
     "traceback": [
      "\u001b[0;31m---------------------------------------------------------------------------\u001b[0m",
      "\u001b[0;31mTypeError\u001b[0m                                 Traceback (most recent call last)",
      "Cell \u001b[0;32mIn[146], line 2\u001b[0m\n\u001b[1;32m      1\u001b[0m myScores\u001b[38;5;241m.\u001b[39msort()\n\u001b[0;32m----> 2\u001b[0m \u001b[38;5;28;01mfor\u001b[39;00m i \u001b[38;5;129;01min\u001b[39;00m \u001b[38;5;28mrange\u001b[39m (myScores):\n\u001b[1;32m      3\u001b[0m     \u001b[38;5;28mprint\u001b[39m (myCourses[i] \u001b[38;5;241m+\u001b[39m\u001b[38;5;124m'\u001b[39m\u001b[38;5;124m=\u001b[39m\u001b[38;5;124m'\u001b[39m\u001b[38;5;241m+\u001b[39m \u001b[38;5;28mstr\u001b[39m(myScores[i]))\n\u001b[1;32m      4\u001b[0m     \u001b[38;5;28;01mif\u001b[39;00m myScores[i]\u001b[38;5;241m>\u001b[39m\u001b[38;5;241m=\u001b[39m\u001b[38;5;241m10\u001b[39m: \n",
      "\u001b[0;31mTypeError\u001b[0m: 'list' object cannot be interpreted as an integer"
     ]
    }
   ],
   "source": [
    "myScores.sort()\n",
    "for i in range (myScores):\n",
    "    print (myCourses[i] +'='+ str(myScores[i]))\n",
    "    if myScores[i]>=10: \n",
    "        print ('Passed')\n",
    "    else :\n",
    "        print('Failed')"
   ]
  },
  {
   "cell_type": "markdown",
   "id": "30237afa-abfa-454a-aaf1-3f386b5c4f4c",
   "metadata": {},
   "source": [
    "# dictionary"
   ]
  },
  {
   "cell_type": "code",
   "execution_count": 149,
   "id": "76a5e563-95d2-4c70-af3a-22c62f1d4971",
   "metadata": {},
   "outputs": [],
   "source": [
    "Personal={'name':'Saba' , 'age':20}"
   ]
  },
  {
   "cell_type": "code",
   "execution_count": 151,
   "id": "b698df4a-2f83-44e5-bc68-830f471ee8b3",
   "metadata": {},
   "outputs": [
    {
     "name": "stdout",
     "output_type": "stream",
     "text": [
      "{'name': 'Saba', 'age': 20}\n"
     ]
    }
   ],
   "source": [
    "print (Personal)"
   ]
  },
  {
   "cell_type": "code",
   "execution_count": 153,
   "id": "c49e1e07-7f65-4759-b366-c9ee6505a3f3",
   "metadata": {},
   "outputs": [
    {
     "name": "stdout",
     "output_type": "stream",
     "text": [
      "20\n"
     ]
    }
   ],
   "source": [
    "print(Personal['age'])"
   ]
  },
  {
   "cell_type": "code",
   "execution_count": 155,
   "id": "61a4d7f4-7c66-4a1f-ba58-2025e7031f33",
   "metadata": {},
   "outputs": [],
   "source": [
    "dict={'firstname':'Saba' ,'surname':'Sarlak'}"
   ]
  },
  {
   "cell_type": "code",
   "execution_count": 157,
   "id": "52e68922-dd1a-4318-848f-e5ffa1b0b1dc",
   "metadata": {},
   "outputs": [],
   "source": [
    "Personal={'name':dict,'age':20}"
   ]
  },
  {
   "cell_type": "code",
   "execution_count": 159,
   "id": "6efb9a28-6937-4d85-be59-0fe59aaf11e3",
   "metadata": {},
   "outputs": [
    {
     "name": "stdout",
     "output_type": "stream",
     "text": [
      "{'name': {'firstname': 'Saba', 'surname': 'Sarlak'}, 'age': 20}\n"
     ]
    }
   ],
   "source": [
    "print (Personal)"
   ]
  },
  {
   "cell_type": "code",
   "execution_count": 161,
   "id": "4de03cb2-900b-4c7a-b942-b1f74361521f",
   "metadata": {},
   "outputs": [
    {
     "name": "stdout",
     "output_type": "stream",
     "text": [
      "Saba\n"
     ]
    }
   ],
   "source": [
    "print(Personal['name']['firstname'])"
   ]
  },
  {
   "cell_type": "code",
   "execution_count": 163,
   "id": "d399b4fb-d223-4c47-aec9-053ac0e83d26",
   "metadata": {},
   "outputs": [],
   "source": [
    "cities=['kl','iis','maha']"
   ]
  },
  {
   "cell_type": "code",
   "execution_count": 165,
   "id": "04766b1a-74f9-4497-938e-2a049eadc533",
   "metadata": {},
   "outputs": [],
   "source": [
    "Personal['cities']=cities"
   ]
  },
  {
   "cell_type": "code",
   "execution_count": 167,
   "id": "61e7441c-94f3-41a0-bef9-a032b57ec9bd",
   "metadata": {},
   "outputs": [
    {
     "name": "stdout",
     "output_type": "stream",
     "text": [
      "{'name': {'firstname': 'Saba', 'surname': 'Sarlak'}, 'age': 20, 'cities': ['kl', 'iis', 'maha']}\n"
     ]
    }
   ],
   "source": [
    "print (Personal)"
   ]
  },
  {
   "cell_type": "code",
   "execution_count": 169,
   "id": "7e7d5987-955c-4096-a890-6092d13f15d9",
   "metadata": {},
   "outputs": [],
   "source": [
    "number=[6]"
   ]
  },
  {
   "cell_type": "code",
   "execution_count": 171,
   "id": "2d07734c-252d-4385-bc45-df3914995496",
   "metadata": {},
   "outputs": [],
   "source": [
    "lastCity=['kl']"
   ]
  },
  {
   "cell_type": "code",
   "execution_count": 173,
   "id": "2c449ff9-71e8-4e91-a0fb-729aa459d0a0",
   "metadata": {},
   "outputs": [],
   "source": [
    "Personal['lastCity']=lastCity"
   ]
  },
  {
   "cell_type": "code",
   "execution_count": 175,
   "id": "43056670-7459-45bf-a1d0-d1cbdb57e42f",
   "metadata": {},
   "outputs": [
    {
     "name": "stdout",
     "output_type": "stream",
     "text": [
      "3\n"
     ]
    }
   ],
   "source": [
    "print (len(Personal['cities']))"
   ]
  },
  {
   "cell_type": "markdown",
   "id": "ce62a925-4eac-4afc-a1ea-eedc4e4c7cb1",
   "metadata": {},
   "source": [
    "### len az jens int ast o mitonim + va _ 1 va adad ha bokonim"
   ]
  },
  {
   "cell_type": "markdown",
   "id": "97c8c693-558c-4769-974a-af9f80b2414d",
   "metadata": {},
   "source": [
    "# list ba alamate [ ]--------> baraye dictionary { }"
   ]
  },
  {
   "cell_type": "code",
   "execution_count": 179,
   "id": "0f024cbd-ffc3-42a9-8224-dbdca0246826",
   "metadata": {},
   "outputs": [],
   "source": [
    "Personal['friends']=[{'firstname':'elnaz', 'lastname':'ahmad' , 'age':22 , 'id':0},{'firstname':'asal','lastname':'sabaghzade' , 'age':26,'id':2}]"
   ]
  },
  {
   "cell_type": "code",
   "execution_count": 181,
   "id": "566027a1-7869-4e88-bf25-be643166774d",
   "metadata": {},
   "outputs": [
    {
     "name": "stdout",
     "output_type": "stream",
     "text": [
      "{'name': {'firstname': 'Saba', 'surname': 'Sarlak'}, 'age': 20, 'cities': ['kl', 'iis', 'maha'], 'lastCity': ['kl'], 'friends': [{'firstname': 'elnaz', 'lastname': 'ahmad', 'age': 22, 'id': 0}, {'firstname': 'asal', 'lastname': 'sabaghzade', 'age': 26, 'id': 2}]}\n"
     ]
    }
   ],
   "source": [
    "print (Personal)"
   ]
  },
  {
   "cell_type": "code",
   "execution_count": 183,
   "id": "fb30de46-9919-40ca-a0b0-e1d66e05b5a7",
   "metadata": {},
   "outputs": [],
   "source": [
    "Personal['friends'].append({'firstname':'setia','lastname':'dehghan', 'id':'bestfriend','age':25})"
   ]
  },
  {
   "cell_type": "code",
   "execution_count": 185,
   "id": "a9faa526-685a-4cc7-aed3-0ed4698d2d9e",
   "metadata": {},
   "outputs": [
    {
     "name": "stdout",
     "output_type": "stream",
     "text": [
      "{'name': {'firstname': 'Saba', 'surname': 'Sarlak'}, 'age': 20, 'cities': ['kl', 'iis', 'maha'], 'lastCity': ['kl'], 'friends': [{'firstname': 'elnaz', 'lastname': 'ahmad', 'age': 22, 'id': 0}, {'firstname': 'asal', 'lastname': 'sabaghzade', 'age': 26, 'id': 2}, {'firstname': 'setia', 'lastname': 'dehghan', 'id': 'bestfriend', 'age': 25}]}\n"
     ]
    }
   ],
   "source": [
    "print (Personal)\n"
   ]
  },
  {
   "cell_type": "code",
   "execution_count": 187,
   "id": "e2d46a3a-83a3-4856-8185-75911b15cdc1",
   "metadata": {},
   "outputs": [
    {
     "data": {
      "text/plain": [
       "dict_keys(['name', 'age', 'cities', 'lastCity', 'friends'])"
      ]
     },
     "execution_count": 187,
     "metadata": {},
     "output_type": "execute_result"
    }
   ],
   "source": [
    "Personal.keys()"
   ]
  },
  {
   "cell_type": "code",
   "execution_count": 189,
   "id": "8c28de06-323e-4743-b181-bb9c2b855a5d",
   "metadata": {},
   "outputs": [
    {
     "name": "stdout",
     "output_type": "stream",
     "text": [
      "ejaze darad\n"
     ]
    }
   ],
   "source": [
    "if 'age' in Personal.keys():\n",
    "    if Personal['age']>=18:\n",
    "        print ('ejaze darad')\n",
    "else:\n",
    "    print ('age ra vared kon')"
   ]
  },
  {
   "cell_type": "markdown",
   "id": "e50ce251-3283-4859-bc75-e6c151d2097b",
   "metadata": {},
   "source": [
    "# Q. print nane of oldest friend and average age of your friends"
   ]
  },
  {
   "cell_type": "markdown",
   "id": "0c0b561c-2ffc-4bf1-8718-426ec44893e2",
   "metadata": {},
   "source": [
    "# files"
   ]
  },
  {
   "cell_type": "code",
   "execution_count": 193,
   "id": "efeeb688-9ca7-4685-82d0-2541c35b1632",
   "metadata": {},
   "outputs": [],
   "source": [
    "tempFile= open('Personal.txt','w')\n",
    "tempFile.write(str(Personal))\n",
    "tempFile.close()"
   ]
  },
  {
   "cell_type": "code",
   "execution_count": 195,
   "id": "b806ed09-7360-4026-8597-ade813cb1631",
   "metadata": {},
   "outputs": [],
   "source": [
    "tempFile=open('Personal.txt','w')\n",
    "tempFile.write(str(Personal))\n",
    "tempFile.close()"
   ]
  },
  {
   "cell_type": "code",
   "execution_count": 197,
   "id": "55bc2755-b86b-483f-a67c-6123f4fb6dea",
   "metadata": {},
   "outputs": [],
   "source": [
    "inputFile= open('Personal.txt','r')\n",
    "PersonalString=inputFile.read()\n",
    "inputFile.close()"
   ]
  },
  {
   "cell_type": "code",
   "execution_count": 199,
   "id": "d2b92568-b4f0-48f3-b522-69c956ca6bf6",
   "metadata": {},
   "outputs": [
    {
     "name": "stdout",
     "output_type": "stream",
     "text": [
      "<_io.TextIOWrapper name='Personal.txt' mode='w' encoding='UTF-8'>\n"
     ]
    }
   ],
   "source": [
    "print(tempFile)"
   ]
  },
  {
   "cell_type": "code",
   "execution_count": 201,
   "id": "8e3abb94-ff11-48c9-a380-b8f63bae6c14",
   "metadata": {},
   "outputs": [
    {
     "name": "stdout",
     "output_type": "stream",
     "text": [
      "<_io.TextIOWrapper name='Personal.txt' mode='r' encoding='UTF-8'>\n"
     ]
    }
   ],
   "source": [
    "print(inputFile)"
   ]
  },
  {
   "cell_type": "code",
   "execution_count": 203,
   "id": "8b0f1f2b-8ebf-4721-a4ea-8cb8676216f7",
   "metadata": {},
   "outputs": [],
   "source": [
    "amirFile=open('amirProfile.txt','r')\n",
    "amirProfile=amirFile.read()\n",
    "amirFile.close()"
   ]
  },
  {
   "cell_type": "code",
   "execution_count": 205,
   "id": "17fa2b6f-5fc4-40e8-9953-bf46c3408a5b",
   "metadata": {},
   "outputs": [
    {
     "name": "stdout",
     "output_type": "stream",
     "text": [
      "{'name': {'firstName': 'Amirhoshang', 'lastName': 'Hoseinpour Dehkordi'}, \n",
      "'age': 34, 'cities': ['Tehran', 'Boston', 'Shahrekord'], 'farhadFriends': \n",
      "{'bestFriend': {'firstName': 'Philip', 'lastName': 'Fry', 'age': 35, 'id': \n",
      "0}, 'lastButNotLeastFriend': {'firstName': 'Bender', 'lastName': 'Bending \n",
      "Rodr�guez', 'age': 4, 'id': 1}, 0: {'firstName': 'Bender1', 'lastName': \n",
      "'Bending Rodr�guez', 'age': 4, 'id': 1}, 1: {'firstName': 'Bender2', \n",
      "'lastName': 'Bending Rodr�guez', 'age': 4, 'id': 1}, 2: {'firstName': \n",
      "'Bender3', 'lastName': 'Bending Rodr�guez', 'age': 4, 'id': 1}}, \n",
      "'friends': [{'firstName': 'Philip', 'lastName': 'Fry', 'age': 35, 'id': \n",
      "0}, {'firstName': 'Bender', 'lastName': 'Bending Rodr�guez', 'age': 4, \n",
      "'id': 1}, {'firstName': 'Amy', 'lastName': 'Wong', 'age': 30, 'id': 2}]}\n",
      "\n"
     ]
    }
   ],
   "source": [
    "print(amirProfile)"
   ]
  },
  {
   "cell_type": "markdown",
   "id": "2f3ab95b-7128-4d0c-9ec8-4919b349b688",
   "metadata": {},
   "source": [
    "# function"
   ]
  },
  {
   "cell_type": "code",
   "execution_count": 208,
   "id": "d640c0f0-bb22-4c6f-b318-82bc5d3c2ce5",
   "metadata": {},
   "outputs": [
    {
     "name": "stdout",
     "output_type": "stream",
     "text": [
      "4\n"
     ]
    }
   ],
   "source": [
    "print(len('amir'))"
   ]
  },
  {
   "cell_type": "code",
   "execution_count": 210,
   "id": "70cdd30e-349f-46d4-b069-67eee7f9b6d6",
   "metadata": {},
   "outputs": [],
   "source": [
    "def function_name(myInput):\n",
    "    #print(myInput)\n",
    "    return myInput *2"
   ]
  },
  {
   "cell_type": "code",
   "execution_count": 212,
   "id": "e30ece18-f00d-42e2-9fc5-101391244f73",
   "metadata": {},
   "outputs": [],
   "source": [
    "def oldest_average_friend(myDict):\n",
    "    maxAge=0\n",
    "    maxFriend={}\n",
    "    sumAge=0\n",
    "    for i in myDict['friends']:\n",
    "        sumAge+=i['age']\n",
    "        if i['age']>maxAge:\n",
    "            maxAge=i['age']\n",
    "            maxFriend=i\n",
    "    averageAge= sumAge/len(myDict['friends'])\n",
    "    return[maxFriend, averageAge]"
   ]
  },
  {
   "cell_type": "code",
   "execution_count": 214,
   "id": "a108b104-70f4-4281-a9cd-8ecf950b6d9e",
   "metadata": {},
   "outputs": [
    {
     "ename": "NameError",
     "evalue": "name 'myProfile' is not defined",
     "output_type": "error",
     "traceback": [
      "\u001b[0;31m---------------------------------------------------------------------------\u001b[0m",
      "\u001b[0;31mNameError\u001b[0m                                 Traceback (most recent call last)",
      "Cell \u001b[0;32mIn[214], line 1\u001b[0m\n\u001b[0;32m----> 1\u001b[0m oldestFriend\u001b[38;5;241m=\u001b[39moldest_average_friend(myProfile)[\u001b[38;5;241m0\u001b[39m]\n\u001b[1;32m      2\u001b[0m \u001b[38;5;28mprint\u001b[39m (oldestFriend[\u001b[38;5;124m'\u001b[39m\u001b[38;5;124mfirstName\u001b[39m\u001b[38;5;124m'\u001b[39m])\n",
      "\u001b[0;31mNameError\u001b[0m: name 'myProfile' is not defined"
     ]
    }
   ],
   "source": [
    "oldestFriend=oldest_average_friend(myProfile)[0]\n",
    "print (oldestFriend['firstName'])"
   ]
  },
  {
   "cell_type": "markdown",
   "id": "d1a1c3de-26ce-4f42-9796-a8dde19c4fac",
   "metadata": {},
   "source": [
    "## Q. 2 be tavane n bar esm ra chap konid?"
   ]
  },
  {
   "cell_type": "code",
   "execution_count": 217,
   "id": "aeb29872-8717-4985-98bd-6c20ddb6c979",
   "metadata": {},
   "outputs": [
    {
     "name": "stdout",
     "output_type": "stream",
     "text": [
      "sabasabasabasabasabasabasabasaba\n"
     ]
    }
   ],
   "source": [
    "n=3\n",
    "mult=1\n",
    "for i in range(n):\n",
    "    mult=mult*2\n",
    "a=mult\n",
    "print(myName*a)"
   ]
  },
  {
   "cell_type": "code",
   "execution_count": 219,
   "id": "5ea0f26a-7f04-419f-bca0-6e64102937c1",
   "metadata": {},
   "outputs": [
    {
     "name": "stdout",
     "output_type": "stream",
     "text": [
      "sabasabasabasabasabasabasabasabasabasabasabasabasabasabasabasabasabasabasabasabasabasabasabasabasabasabasabasabasabasabasabasabasabasabasabasabasabasabasabasabasabasabasabasabasabasabasabasabasabasabasabasabasabasabasabasabasabasabasabasabasabasabasabasabasabasabasabasabasabasabasabasabasabasabasabasabasabasabasabasabasabasabasabasabasabasabasabasabasabasabasabasabasabasabasabasabasabasabasabasabasabasabasabasabasabasabasabasabasabasabasabasabasabasabasabasabasabasabasabasabasabasabasabasabasabasabasabasabasabasabasabasabasabasabasabasabasabasabasabasabasabasabasabasabasabasabasabasabasabasabasabasabasabasabasabasabasabasabasabasabasabasabasabasabasabasabasabasabasabasabasabasabasabasabasabasabasabasabasabasabasabasabasabasabasabasabasabasabasabasabasabasabasabasabasabasabasabasabasabasabasabasabasabasabasabasabasabasabasabasabasabasabasabasabasabasabasabasabasabasabasabasabasabasabasabasabasabasabasabasabasabasabasabasabasabasabasabasabasabasabasabasabasabasabasabasabasabasabasabasabasabasabasabasabasabasaba\n"
     ]
    }
   ],
   "source": [
    "n=8\n",
    "mult=1\n",
    "for i in range(n):\n",
    "    mult=mult*2\n",
    "a=mult\n",
    "print(myName*a)"
   ]
  },
  {
   "cell_type": "code",
   "execution_count": 221,
   "id": "f9d17bab-821e-4ea1-a6e0-a2d7d7f66d52",
   "metadata": {},
   "outputs": [],
   "source": [
    "def power2(n):\n",
    "    mult=1\n",
    "    for i in range (n):\n",
    "        mult=mult*2\n",
    "    return mult"
   ]
  },
  {
   "cell_type": "code",
   "execution_count": 223,
   "id": "a75d1e22-4750-40e6-baf4-5ceb401b512c",
   "metadata": {},
   "outputs": [],
   "source": [
    "def power_k(k, n):\n",
    "    mult=1\n",
    "    for i in range(n):\n",
    "        mult=mult*k\n",
    "    return mult"
   ]
  },
  {
   "cell_type": "code",
   "execution_count": 225,
   "id": "4c71a021-dddd-4d83-ba69-d0e7b0f5fbac",
   "metadata": {},
   "outputs": [
    {
     "data": {
      "text/plain": [
       "256"
      ]
     },
     "execution_count": 225,
     "metadata": {},
     "output_type": "execute_result"
    }
   ],
   "source": [
    "power_k(4, 4)"
   ]
  },
  {
   "cell_type": "code",
   "execution_count": 227,
   "id": "d1e78e8a-531d-4631-b7e8-529dea256150",
   "metadata": {},
   "outputs": [],
   "source": [
    "Personal['id']=7"
   ]
  },
  {
   "cell_type": "code",
   "execution_count": 229,
   "id": "e3ac7742-2736-416c-bd10-d44f369772c6",
   "metadata": {},
   "outputs": [
    {
     "data": {
      "text/plain": [
       "{'name': {'firstname': 'Saba', 'surname': 'Sarlak'},\n",
       " 'age': 20,\n",
       " 'cities': ['kl', 'iis', 'maha'],\n",
       " 'lastCity': ['kl'],\n",
       " 'friends': [{'firstname': 'elnaz', 'lastname': 'ahmad', 'age': 22, 'id': 0},\n",
       "  {'firstname': 'asal', 'lastname': 'sabaghzade', 'age': 26, 'id': 2},\n",
       "  {'firstname': 'setia',\n",
       "   'lastname': 'dehghan',\n",
       "   'id': 'bestfriend',\n",
       "   'age': 25}],\n",
       " 'id': 7}"
      ]
     },
     "execution_count": 229,
     "metadata": {},
     "output_type": "execute_result"
    }
   ],
   "source": [
    "Personal"
   ]
  },
  {
   "cell_type": "code",
   "execution_count": 231,
   "id": "55d686c0-2841-49d4-934d-9da76b7afca6",
   "metadata": {},
   "outputs": [],
   "source": [
    "tempFile=open(str(Personal['id']) +'.txt','w')\n",
    "tempFile.write(str(Personal))\n",
    "tempFile.close()"
   ]
  },
  {
   "cell_type": "markdown",
   "id": "757641fb-e062-4d3d-ba9b-87cd39efdbe1",
   "metadata": {},
   "source": [
    "# my id 7"
   ]
  },
  {
   "cell_type": "code",
   "execution_count": 234,
   "id": "b94c2f1b-27af-4530-a2bf-2c7ba0eb35a7",
   "metadata": {},
   "outputs": [],
   "source": [
    "myId=7"
   ]
  },
  {
   "cell_type": "code",
   "execution_count": 236,
   "id": "15db2f6e-4793-49dc-85f9-c154ac297604",
   "metadata": {},
   "outputs": [],
   "source": [
    "Personal['id']=myId"
   ]
  },
  {
   "cell_type": "markdown",
   "id": "a1c6c276-abc9-4da2-853d-77060733dbb4",
   "metadata": {},
   "source": [
    "# analyze data classmates"
   ]
  },
  {
   "cell_type": "code",
   "execution_count": 239,
   "id": "d7333ebf-8891-42ae-ac9a-873283171615",
   "metadata": {},
   "outputs": [
    {
     "name": "stdout",
     "output_type": "stream",
     "text": [
      "{'name': {'first_name': 'Shayan', 'last_name': 'Shahvari'}, 'age': 20, 'cities': ['Tehran', 'Moscow', 'Kish'], 'friends': [{'first_name': 'Parsa', 'last_name': 'khaki', 'age': 30, 'id': 0}, {'first_name': 'Kiavash', 'last_name': 'abbasnejad', 'age': 37, 'id': 1}, {'first_name': 'Kourosh', 'last_name': 'ikani', 'age': 20}], 'id': 1}\n"
     ]
    }
   ],
   "source": [
    "f= open('classmates/1.txt','r')  # r ro mitonim bezanim  mitonim nazanim.\n",
    "data = f.read()\n",
    "f.close()\n",
    "print(data)"
   ]
  },
  {
   "cell_type": "markdown",
   "id": "c5b7643e-995d-41bf-a1d3-823d2c5a0c01",
   "metadata": {},
   "source": [
    "# how to open files?"
   ]
  },
  {
   "cell_type": "code",
   "execution_count": 242,
   "id": "ceecdd5a-4e7e-4300-91e2-f9ff071b1ceb",
   "metadata": {},
   "outputs": [
    {
     "ename": "ModuleNotFoundError",
     "evalue": "No module named 'OS'",
     "output_type": "error",
     "traceback": [
      "\u001b[0;31m---------------------------------------------------------------------------\u001b[0m",
      "\u001b[0;31mModuleNotFoundError\u001b[0m                       Traceback (most recent call last)",
      "Cell \u001b[0;32mIn[242], line 1\u001b[0m\n\u001b[0;32m----> 1\u001b[0m \u001b[38;5;28;01mimport\u001b[39;00m \u001b[38;5;21;01mOS\u001b[39;00m\n\u001b[1;32m      2\u001b[0m arr\u001b[38;5;241m=\u001b[39m OS\u001b[38;5;241m.\u001b[39mlistdir(\u001b[38;5;124m'\u001b[39m\u001b[38;5;124mhttp://localhost:8889//tree//Documents//advanced programming//subfolder//classmates\u001b[39m\u001b[38;5;124m'\u001b[39m) \u001b[38;5;66;03m#backslash 1 donei string nist pas / ha ro do ta mikonim\u001b[39;00m\n\u001b[1;32m      3\u001b[0m \u001b[38;5;28mprint\u001b[39m(arr)\n",
      "\u001b[0;31mModuleNotFoundError\u001b[0m: No module named 'OS'"
     ]
    }
   ],
   "source": [
    "import OS\n",
    "arr= OS.listdir('http://localhost:8889//tree//Documents//advanced programming//subfolder//classmates') #backslash 1 donei string nist pas / ha ro do ta mikonim\n",
    "print(arr)"
   ]
  },
  {
   "cell_type": "code",
   "execution_count": 244,
   "id": "670e7702-8e3b-4e53-b7d5-8fe69b6c8a24",
   "metadata": {},
   "outputs": [
    {
     "ename": "NameError",
     "evalue": "name 'rootDir' is not defined",
     "output_type": "error",
     "traceback": [
      "\u001b[0;31m---------------------------------------------------------------------------\u001b[0m",
      "\u001b[0;31mNameError\u001b[0m                                 Traceback (most recent call last)",
      "Cell \u001b[0;32mIn[244], line 3\u001b[0m\n\u001b[1;32m      1\u001b[0m \u001b[38;5;28;01mimport\u001b[39;00m \u001b[38;5;21;01mos\u001b[39;00m \n\u001b[1;32m      2\u001b[0m ROOT_DIR\u001b[38;5;241m=\u001b[39m os\u001b[38;5;241m.\u001b[39mpath\u001b[38;5;241m.\u001b[39mabspath(os\u001b[38;5;241m.\u001b[39mcurdir)\n\u001b[0;32m----> 3\u001b[0m \u001b[38;5;28mprint\u001b[39m(rootDir)\n\u001b[1;32m      4\u001b[0m ar\u001b[38;5;241m=\u001b[39m  os\u001b[38;5;241m.\u001b[39mlistdir(rootDir\u001b[38;5;241m+\u001b[39m\u001b[38;5;124m'\u001b[39m\u001b[38;5;124m/classmates\u001b[39m\u001b[38;5;124m'\u001b[39m)\n\u001b[1;32m      5\u001b[0m \u001b[38;5;28mprint\u001b[39m(ar)\n",
      "\u001b[0;31mNameError\u001b[0m: name 'rootDir' is not defined"
     ]
    }
   ],
   "source": [
    "import os \n",
    "ROOT_DIR= os.path.abspath(os.curdir)\n",
    "print(rootDir)\n",
    "ar=  os.listdir(rootDir+'/classmates')\n",
    "print(ar)"
   ]
  },
  {
   "cell_type": "code",
   "execution_count": 246,
   "id": "ceb8e139-e1ac-4e09-b895-2a79164fe609",
   "metadata": {},
   "outputs": [
    {
     "ename": "NameError",
     "evalue": "name 'rootDir' is not defined",
     "output_type": "error",
     "traceback": [
      "\u001b[0;31m---------------------------------------------------------------------------\u001b[0m",
      "\u001b[0;31mNameError\u001b[0m                                 Traceback (most recent call last)",
      "Cell \u001b[0;32mIn[246], line 3\u001b[0m\n\u001b[1;32m      1\u001b[0m \u001b[38;5;28;01mimport\u001b[39;00m \u001b[38;5;21;01mos\u001b[39;00m \n\u001b[1;32m      2\u001b[0m ROOT_DIR\u001b[38;5;241m=\u001b[39m os\u001b[38;5;241m.\u001b[39mpath\u001b[38;5;241m.\u001b[39mabspath(os\u001b[38;5;241m.\u001b[39mcurdir)\n\u001b[0;32m----> 3\u001b[0m \u001b[38;5;28mprint\u001b[39m(rootDir)\n",
      "\u001b[0;31mNameError\u001b[0m: name 'rootDir' is not defined"
     ]
    }
   ],
   "source": [
    "import os \n",
    "ROOT_DIR= os.path.abspath(os.curdir)\n",
    "print(rootDir)"
   ]
  },
  {
   "cell_type": "code",
   "execution_count": 248,
   "id": "6a61304b-44ff-404e-bbd6-2c0dfcac7034",
   "metadata": {},
   "outputs": [
    {
     "name": "stdout",
     "output_type": "stream",
     "text": [
      "classmates/14.txt\n",
      "classmates/16.txt\n",
      "classmates/17.txt\n",
      "classmates/13.txt\n",
      "classmates/12.txt\n",
      "classmates/10.txt\n",
      "classmates/11.txt\n",
      "classmates/9.txt\n",
      "classmates/8.txt\n",
      "classmates/5.txt\n",
      "classmates/4.txt\n",
      "classmates/6.txt\n",
      "classmates/7.txt\n",
      "classmates/2.txt\n",
      "classmates/1.txt\n",
      "classmates/19.txt\n",
      "classmates/18.txt\n",
      "[\"{'name': {'first name': 'Mahsa', 'last name': 'kzn'}, 'age': 22, 'cities': ['Tehran', 'Shiraz', 'Rasht', 'Mashhad'], 'friends': [{'firstname': 'Fazel', 'Lastname': 'basiri', 'age': 25, 'id': 13}, {'firstname': 'Niayesh', 'lastname': 'Mohammadi', 'age': 22, 'id': 0}], 'id': 14}\", \"{'name': {'firstname': 'Hesam', 'lastName': 'Fatemizadeh'}, 'age': 21, 'cities': {'TEHRAN', 'KISH', 'ABADAN'}, 'friends': [{'firstname': 'mariam', 'lastname': 'shojaodin', 'age': 21, 'id': '100'}, {'firstname': 'abbas', 'lastname': 'ranjbar', 'age': 25, 'id': '101'}, {'firstname': 'ali', 'lastname': 'niazi', 'age': 23, 'id': 102}], 'id': 16}\", \"{'name': {'first name': 'Mariam', 'last name': 'Shojaedin'}, 'age': 21, 'cities': ['Kaluga', 'Moscow', 'Sochi'], 'friends': [{'firstName': 'Mahsa', 'lastName': 'Rastaghi', 'age': 22, 'ID': '0'}, {'firstName': 'Hesam', 'lastName': 'Fatemizade', 'age': 21, 'ID': '1'}, {'firstName': 'Nika', 'lastName': 'Sadidi', 'age': 22, 'ID': '2'}, {'firstName': 'Ali', 'lastName': 'Niazi', 'age': 23, 'ID': '3'}], 'ID': 17}\", \"{'name': {'firstName': 'Fazel', 'lastName': 'Basiri'}, 'age': 25, 'cities': ['Bam', 'Shiraz', 'Kish'], 'friends': [{'firstName': 'Saeed', 'lastName': 'Ashrafian', 'age': 25}, {'firstName': 'Mahsa', 'lastName': 'Kzn', 'age':22}, {'firstName': 'Alireza', 'lastName': 'PourMoghadam', 'age':26}], 'id': 13}\", \"{'id': 12, 'name': 'Sina', 'age': 21, 'email': 'sina.sherkat@example.com', 'location': 'Kish'}\", \"{'name': {'firstName': 'amir_ali', 'lastName': 'mohammadi'}, 'age': 22, 'id': 10, 'cities': ['Tehran', 'kish', 'kabul'], 'farhadFriends': {'bestFriend': {'firstName': 'ikkin', 'lastName': 'golabi', 'age': 2, 'id': 0}, 'lastButNotLeastFriend': {'firstName': 'hossein', 'lastName': 'hezarpa', 'age': 40, 'id': 1}, 0: {'firstName': 'pedram', 'lastName': 'shahraki', 'age': 13, 'id': 1}, 1: {'firstName': 'Bender2', 'lastName': 'Bending Rodriguez', 'age': 4, 'id': 1}, 2: {'firstName': 'shahrooz', 'lastName': 'shabpareh', 'age': 60, 'id': 1}}, 'friends': [{'firstName': 'kamran', 'lastName': 'Fry', 'age': 80, 'id': 0}, {'firstName': 'aligoodarz', 'lastName': 'baboli', 'age': 4, 'id': 1}, {'firstName': 'parham', 'lastName': 'Wong', 'age': 30, 'id': 2}]}\", \"{'name': {'first_name': 'Parsa', 'last_name': 'Mollaei'}, 'age': 22, 'my_id': 11, 'cities': ['tehran', 'esfehan', 'kerman'], 'friends': [{'first_name': 'ali', 'last_name': 'Barkhodari', 'age': 22, 'id': '2'}, {'first_name': 'AmirHossein', 'last_name': 'yousefzade', 'age': 22, 'id': 2}, {'first_name': 'Parnian', 'last_name': 'Mollaei', 'age': 13, 'id': 3}]}\", \"{'name': {'first name': 'shahrad', 'last name': 'shahraki'}, 'age': 22, 'cities': ['birjand', 'khoosf', 'tabas'], 'friends': [{'first name': 'alireza', 'last name': 'balali', 'age': 7, 'id': 2}, {'first name': 'shahrokh', 'last name': 'shahmohammadi', 'age': 40, 'id': 7}, {'first name': 'saba', 'last name': 'samaani', 'age': 34, 'id': 5}], 'id': 9}\", \"{'name': {'first name': 'Mohammad', 'last name': 'Mohammad Khaninezhad'}, 'age': 20, 'cities': ['Tehran', 'Boston', 'Shahrekord'], 'friends': [{'first name': 'Shahrad', 'last name': 'Shahraki', 'age': 21, 'id': 0}, {'first name': 'Hossein', 'last name': 'Dehghan', 'age': 22, 'id': 1}, {'first name': 'Erfan', 'last name': 'Kasef', 'age': 23, 'id': 2}], 'id': 8}\", \"{'firstName': 'Tima', 'lastName': 'Kalhori', 'age': 19, 'cities': ['Tehran', 'Boston', 'Shahrekord'], 'friends': [{'firstName': 'philip', 'lastName': 'fry', 'age': 35, 'id': 0}, {'firstName': 'zahra', 'lastName': 'akhlaghipoor', 'age': 22, 'id': 12}, {'firstName': 'leili', 'lastname': 'shabani', 'age': 27, 'id': 32}], 'id': 5}\", \"{'name': {'firstName': 'Zahra', 'lastName': 'Akhlaghipoor'}, 'age': 22, 'cities': ['Kish'], 'friends': [{'firstName': 'Tima', 'LastName': 'Kalhori', 'age': 19, 'id': 0}, {'firstName': 'Nikki', 'LastName': 'Khayyat', 'age': 21, 'id': 1}], 'id': 4}\", \"{'name': {'firstname': 'Nikki', 'lastname': 'Khayyat'}, 'age': 23, 'cities': ['Tehran', 'Boston', 'Shahrekord'], 'friends': [{'firstname': 'Charles', 'lastname': 'Lec', 'age': 27, 'ID': 0}, {'firstname': 'Franco', 'lastname': 'Colapinto', 'age': 21, 'ID': 0}, {'firstname': 'Lewis', 'lastname': 'Hamilton', 'age': 40, 'ID': 0}], 'Id': 6}\", \"{'name': {'firstname': 'Saba', 'surname': 'Sarlak'}, 'age': 20, 'cities': ['kl', 'iis', 'maha'], 'lastCity': ['kl'], 'friends': [{'firstname': 'elnaz', 'lastname': 'ahmad', 'age': 22, 'id': 0}, {'firstname': 'asal', 'lastname': 'sabaghzade', 'age': 26, 'id': 2}, {'firstname': 'setia', 'lastname': 'dehghan', 'id': 'bestfriend', 'age': 25}], 'id': 7}\", \"{'name': {'firstName': 'parsa', 'lastName': 'khaki'}, 'age': 19, 'cities': ['tehran', 'boston', 'mehran'], 'friends': [{'firstName': 'shayan', 'lastname': 'shahvari', 'age': 35, 'id': 0}, {'firstName': 'kiavash', 'lastName': 'abasnejad', 'age': 21, 'id': 1}, {'firstName': 'behrad', 'lastName': 'biniaz', 'age': 30, 'id': 2}], 'id': 2}\", \"{'name': {'first_name': 'Shayan', 'last_name': 'Shahvari'}, 'age': 20, 'cities': ['Tehran', 'Moscow', 'Kish'], 'friends': [{'first_name': 'Parsa', 'last_name': 'khaki', 'age': 30, 'id': 0}, {'first_name': 'Kiavash', 'last_name': 'abbasnejad', 'age': 37, 'id': 1}, {'first_name': 'Kourosh', 'last_name': 'ikani', 'age': 20}], 'id': 1}\", \"{'name': 'Mobina Mohammadiuon', 'age': 21, 'id': 19, 'cities': ['Tehran', 'Boston', 'Shahrkord'], 'friends': [{'firstName': 'Elaheh', 'lastName': 'HosseinAbadi', 'age': 21, 'id': 0}, {'firstName': 'Nika', 'lastName': 'Sadidi', 'age': 22, 'id': 1}, {'firstName': 'Azin', 'lastName': 'Esfandiari', 'age': 25, 'id': 2}]}\", \"{'Name': {'First name': 'Mahsa', 'Last name': 'Rastaghi'}, 'Age': 22, 'Cities': ['Kish', 'Shiraz', 'Tehran'], 'Friends': [{'first name': ' Mariam', 'Last name': 'Shojaedin', 'Age': 21, 'Id': 0}, {'first name': ' Nika', 'Last name': 'Sadidi', 'Age': 22, 'Id': 1}, {'first name': ' Hesam', 'Last name': 'Fatemi zadeh', 'Age': 21, 'Id': 2}, {'first name': 'Fatemeh', 'Last name': 'Sayyadi', 'Age': 22, 'Id': '3'}], 'Id': 18}\"]\n"
     ]
    }
   ],
   "source": [
    "import os \n",
    "ROOT_DIR= os.path.abspath(os.curdir)\n",
    "listOfFile=  os.listdir(ROOT_DIR+'/classmates')\n",
    "listOfProfile= [ ]\n",
    "for i in listOfFile:  #list nuaz be range nadare mitonim mostaghim bekhonim\n",
    "    print('classmates/'+i)\n",
    "    f=open('classmates/'+i)\n",
    "    tempProfile=f.read()\n",
    "    listOfProfile.append(tempProfile)\n",
    "    f.close()\n",
    "print(listOfProfile)"
   ]
  },
  {
   "cell_type": "markdown",
   "id": "f0d815a7-f915-4eed-bc2b-a044b2d01387",
   "metadata": {},
   "source": [
    "# miangin sen bache haye class"
   ]
  },
  {
   "cell_type": "code",
   "execution_count": 251,
   "id": "a301976e-074e-4605-b97f-506bea8ab435",
   "metadata": {},
   "outputs": [],
   "source": [
    "import json"
   ]
  },
  {
   "cell_type": "markdown",
   "id": "fd704531-408e-4fba-92b4-21b8f25bab71",
   "metadata": {},
   "source": [
    "## format json va yek formate dige niz hast ke data \n",
    "# enter /m hast joda kardan data ha ba tab va comma "
   ]
  },
  {
   "cell_type": "markdown",
   "id": "227b4e92-0236-4c6a-a837-688ddfa9cecb",
   "metadata": {},
   "source": [
    "# chegone file tsv ra dar python bekhonim? "
   ]
  },
  {
   "cell_type": "markdown",
   "id": "ef2b35f2-1565-4e0b-bd39-88d361b6ed08",
   "metadata": {},
   "source": []
  },
  {
   "cell_type": "code",
   "execution_count": 256,
   "id": "d151c814-eb7a-4481-879f-f3ad4fefbb5e",
   "metadata": {},
   "outputs": [
    {
     "name": "stdout",
     "output_type": "stream",
     "text": [
      "Requirement already satisfied: pandas in /opt/anaconda3/lib/python3.12/site-packages (2.2.2)\n",
      "Requirement already satisfied: numpy>=1.26.0 in /opt/anaconda3/lib/python3.12/site-packages (from pandas) (1.26.4)\n",
      "Requirement already satisfied: python-dateutil>=2.8.2 in /opt/anaconda3/lib/python3.12/site-packages (from pandas) (2.9.0.post0)\n",
      "Requirement already satisfied: pytz>=2020.1 in /opt/anaconda3/lib/python3.12/site-packages (from pandas) (2024.1)\n",
      "Requirement already satisfied: tzdata>=2022.7 in /opt/anaconda3/lib/python3.12/site-packages (from pandas) (2023.3)\n",
      "Requirement already satisfied: six>=1.5 in /opt/anaconda3/lib/python3.12/site-packages (from python-dateutil>=2.8.2->pandas) (1.16.0)\n"
     ]
    }
   ],
   "source": [
    "! pip install pandas"
   ]
  },
  {
   "cell_type": "code",
   "execution_count": 257,
   "id": "d89b9cc3-c343-484d-9bc2-6ae6dadfd0ef",
   "metadata": {},
   "outputs": [
    {
     "data": {
      "text/html": [
       "<div>\n",
       "<style scoped>\n",
       "    .dataframe tbody tr th:only-of-type {\n",
       "        vertical-align: middle;\n",
       "    }\n",
       "\n",
       "    .dataframe tbody tr th {\n",
       "        vertical-align: top;\n",
       "    }\n",
       "\n",
       "    .dataframe thead th {\n",
       "        text-align: right;\n",
       "    }\n",
       "</style>\n",
       "<table border=\"1\" class=\"dataframe\">\n",
       "  <thead>\n",
       "    <tr style=\"text-align: right;\">\n",
       "      <th></th>\n",
       "      <th>tconst</th>\n",
       "      <th>averageRating</th>\n",
       "      <th>numVotes</th>\n",
       "    </tr>\n",
       "  </thead>\n",
       "  <tbody>\n",
       "    <tr>\n",
       "      <th>0</th>\n",
       "      <td>tt0000001</td>\n",
       "      <td>5.7</td>\n",
       "      <td>2103</td>\n",
       "    </tr>\n",
       "    <tr>\n",
       "      <th>1</th>\n",
       "      <td>tt0000002</td>\n",
       "      <td>5.6</td>\n",
       "      <td>282</td>\n",
       "    </tr>\n",
       "    <tr>\n",
       "      <th>2</th>\n",
       "      <td>tt0000003</td>\n",
       "      <td>6.5</td>\n",
       "      <td>2122</td>\n",
       "    </tr>\n",
       "    <tr>\n",
       "      <th>3</th>\n",
       "      <td>tt0000004</td>\n",
       "      <td>5.4</td>\n",
       "      <td>182</td>\n",
       "    </tr>\n",
       "    <tr>\n",
       "      <th>4</th>\n",
       "      <td>tt0000005</td>\n",
       "      <td>6.2</td>\n",
       "      <td>2852</td>\n",
       "    </tr>\n",
       "    <tr>\n",
       "      <th>...</th>\n",
       "      <td>...</td>\n",
       "      <td>...</td>\n",
       "      <td>...</td>\n",
       "    </tr>\n",
       "    <tr>\n",
       "      <th>1503082</th>\n",
       "      <td>tt9916730</td>\n",
       "      <td>7.0</td>\n",
       "      <td>12</td>\n",
       "    </tr>\n",
       "    <tr>\n",
       "      <th>1503083</th>\n",
       "      <td>tt9916766</td>\n",
       "      <td>7.1</td>\n",
       "      <td>24</td>\n",
       "    </tr>\n",
       "    <tr>\n",
       "      <th>1503084</th>\n",
       "      <td>tt9916778</td>\n",
       "      <td>7.2</td>\n",
       "      <td>37</td>\n",
       "    </tr>\n",
       "    <tr>\n",
       "      <th>1503085</th>\n",
       "      <td>tt9916840</td>\n",
       "      <td>6.9</td>\n",
       "      <td>11</td>\n",
       "    </tr>\n",
       "    <tr>\n",
       "      <th>1503086</th>\n",
       "      <td>tt9916880</td>\n",
       "      <td>7.9</td>\n",
       "      <td>9</td>\n",
       "    </tr>\n",
       "  </tbody>\n",
       "</table>\n",
       "<p>1503087 rows × 3 columns</p>\n",
       "</div>"
      ],
      "text/plain": [
       "            tconst  averageRating  numVotes\n",
       "0        tt0000001            5.7      2103\n",
       "1        tt0000002            5.6       282\n",
       "2        tt0000003            6.5      2122\n",
       "3        tt0000004            5.4       182\n",
       "4        tt0000005            6.2      2852\n",
       "...            ...            ...       ...\n",
       "1503082  tt9916730            7.0        12\n",
       "1503083  tt9916766            7.1        24\n",
       "1503084  tt9916778            7.2        37\n",
       "1503085  tt9916840            6.9        11\n",
       "1503086  tt9916880            7.9         9\n",
       "\n",
       "[1503087 rows x 3 columns]"
      ]
     },
     "metadata": {},
     "output_type": "display_data"
    }
   ],
   "source": [
    "import pandas as pd \n",
    "# as baraye avaz kardane esm \n",
    "df= pd.read_csv('title.ratings.tsv' , sep='\\t')\n",
    "display(df)"
   ]
  },
  {
   "cell_type": "code",
   "execution_count": 258,
   "id": "410a7099-e0e1-483a-9c01-d5167150714a",
   "metadata": {},
   "outputs": [
    {
     "name": "stdout",
     "output_type": "stream",
     "text": [
      "84328\n"
     ]
    }
   ],
   "source": [
    "maxValues= df['numVotes'].idxmax()\n",
    "print(maxValues)"
   ]
  },
  {
   "cell_type": "code",
   "execution_count": 259,
   "id": "7bd5dce3-7760-4ab4-a624-2348f1eec0f9",
   "metadata": {},
   "outputs": [
    {
     "name": "stdout",
     "output_type": "stream",
     "text": [
      "78058\n"
     ]
    }
   ],
   "source": [
    "maxValues= df['averageRating'].idxmax()\n",
    "print(maxValues)"
   ]
  },
  {
   "cell_type": "code",
   "execution_count": 260,
   "id": "d2e2155c-0439-4d98-8b35-bb79ff3b8479",
   "metadata": {},
   "outputs": [
    {
     "name": "stdout",
     "output_type": "stream",
     "text": [
      "10.0\n"
     ]
    }
   ],
   "source": [
    "maxValues= df['averageRating'].max()\n",
    "print(maxValues)"
   ]
  },
  {
   "cell_type": "code",
   "execution_count": 261,
   "id": "a89e0261-e552-443f-8c9a-8e5a249cc761",
   "metadata": {},
   "outputs": [
    {
     "name": "stdout",
     "output_type": "stream",
     "text": [
      "2966619\n"
     ]
    }
   ],
   "source": [
    "maxValues= df['numVotes'].max()\n",
    "print(maxValues)"
   ]
  },
  {
   "cell_type": "code",
   "execution_count": null,
   "id": "1996e91e-2737-4da9-a3ce-5a29bc86aa2b",
   "metadata": {},
   "outputs": [],
   "source": []
  },
  {
   "cell_type": "code",
   "execution_count": null,
   "id": "9ec37b89-afca-44bf-af31-cec06c32c19b",
   "metadata": {},
   "outputs": [],
   "source": []
  },
  {
   "cell_type": "code",
   "execution_count": null,
   "id": "c36f0d7c-4cfe-4abb-b171-7c82512cdc47",
   "metadata": {},
   "outputs": [],
   "source": []
  },
  {
   "cell_type": "code",
   "execution_count": null,
   "id": "65211ec8-0640-4cb5-9273-fd71a27cac09",
   "metadata": {},
   "outputs": [],
   "source": []
  },
  {
   "cell_type": "code",
   "execution_count": null,
   "id": "e8baa08c-039d-4317-a74a-a99399dc8a7f",
   "metadata": {},
   "outputs": [],
   "source": []
  },
  {
   "cell_type": "code",
   "execution_count": null,
   "id": "3e2494c3-d48e-4132-8bbf-d71a50d230cf",
   "metadata": {},
   "outputs": [],
   "source": []
  },
  {
   "cell_type": "code",
   "execution_count": null,
   "id": "60ddbda5-9fa5-4b5c-b409-cb040769c40c",
   "metadata": {},
   "outputs": [],
   "source": []
  }
 ],
 "metadata": {
  "kernelspec": {
   "display_name": "Python 3 (ipykernel)",
   "language": "python",
   "name": "python3"
  },
  "language_info": {
   "codemirror_mode": {
    "name": "ipython",
    "version": 3
   },
   "file_extension": ".py",
   "mimetype": "text/x-python",
   "name": "python",
   "nbconvert_exporter": "python",
   "pygments_lexer": "ipython3",
   "version": "3.12.4"
  }
 },
 "nbformat": 4,
 "nbformat_minor": 5
}
