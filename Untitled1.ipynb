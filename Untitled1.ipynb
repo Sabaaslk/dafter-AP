{
 "cells": [
  {
   "cell_type": "code",
   "execution_count": 1,
   "id": "fa77a5bf-95a7-494a-bbed-38bd998b8d36",
   "metadata": {},
   "outputs": [
    {
     "data": {
      "text/plain": [
       "4"
      ]
     },
     "execution_count": 1,
     "metadata": {},
     "output_type": "execute_result"
    }
   ],
   "source": [
    "2+2"
   ]
  },
  {
   "cell_type": "code",
   "execution_count": 7,
   "id": "aa7c1c8f-908a-4825-bc9e-60cb6b7cd5ff",
   "metadata": {},
   "outputs": [
    {
     "data": {
      "text/plain": [
       "10"
      ]
     },
     "execution_count": 7,
     "metadata": {},
     "output_type": "execute_result"
    }
   ],
   "source": [
    "2*3+4"
   ]
  },
  {
   "cell_type": "code",
   "execution_count": 9,
   "id": "24a3ad5f-316b-45ec-9b67-cd1dd8ddc89c",
   "metadata": {},
   "outputs": [],
   "source": [
    "a=2\n",
    "a=2+2\n",
    "b=2*3\n",
    "c= a/b\n",
    "nos= 33"
   ]
  },
  {
   "cell_type": "code",
   "execution_count": 15,
   "id": "db3a322d-8f1a-401b-b836-92993fcbac3c",
   "metadata": {},
   "outputs": [
    {
     "data": {
      "text/plain": [
       "0.6666666666666666"
      ]
     },
     "execution_count": 15,
     "metadata": {},
     "output_type": "execute_result"
    }
   ],
   "source": [
    "c"
   ]
  },
  {
   "cell_type": "code",
   "execution_count": 17,
   "id": "23bdb3eb-8618-406b-adf4-942bad87cdb7",
   "metadata": {},
   "outputs": [
    {
     "name": "stdout",
     "output_type": "stream",
     "text": [
      "4\n"
     ]
    }
   ],
   "source": [
    "print(a)"
   ]
  },
  {
   "cell_type": "code",
   "execution_count": 19,
   "id": "4d44b12f-7f24-420c-af12-49bbe99da086",
   "metadata": {},
   "outputs": [
    {
     "name": "stdout",
     "output_type": "stream",
     "text": [
      "0.6666666666666666\n"
     ]
    }
   ],
   "source": [
    "print(c)"
   ]
  },
  {
   "cell_type": "code",
   "execution_count": 21,
   "id": "fe67cae0-26a4-4803-a749-485dfbc55aea",
   "metadata": {},
   "outputs": [],
   "source": [
    "d = a and b"
   ]
  },
  {
   "cell_type": "code",
   "execution_count": 23,
   "id": "5cf10317-25e0-49d8-a8c1-de7d72a3e36e",
   "metadata": {},
   "outputs": [
    {
     "name": "stdout",
     "output_type": "stream",
     "text": [
      "6\n"
     ]
    }
   ],
   "source": [
    "print(d)"
   ]
  },
  {
   "cell_type": "code",
   "execution_count": 25,
   "id": "d4c61e0b-2abc-4dfa-800b-28f005b98fb8",
   "metadata": {},
   "outputs": [
    {
     "data": {
      "text/plain": [
       "6"
      ]
     },
     "execution_count": 25,
     "metadata": {},
     "output_type": "execute_result"
    }
   ],
   "source": [
    "d"
   ]
  },
  {
   "cell_type": "code",
   "execution_count": 27,
   "id": "94c678b2-505c-4cce-b55c-920db60387c9",
   "metadata": {},
   "outputs": [
    {
     "name": "stdout",
     "output_type": "stream",
     "text": [
      "0\n"
     ]
    }
   ],
   "source": [
    "a=0\n",
    "b=1\n",
    "d= a and b\n",
    "print(d)"
   ]
  },
  {
   "cell_type": "code",
   "execution_count": 29,
   "id": "50c7a4bf-4429-4977-824a-d2310a9f6e16",
   "metadata": {},
   "outputs": [
    {
     "name": "stdout",
     "output_type": "stream",
     "text": [
      "4\n"
     ]
    }
   ],
   "source": [
    "a=2\n",
    "b=4\n",
    "d=a and b \n",
    "print (d)\n"
   ]
  },
  {
   "cell_type": "code",
   "execution_count": 31,
   "id": "5293de69-cc56-4c62-883e-f3e13e2420b8",
   "metadata": {},
   "outputs": [
    {
     "name": "stdout",
     "output_type": "stream",
     "text": [
      "True\n"
     ]
    }
   ],
   "source": [
    "a= True #bool for conditions \n",
    "b= True\n",
    "print (a and b)"
   ]
  },
  {
   "cell_type": "code",
   "execution_count": 33,
   "id": "6c4c15d7-0ca6-4132-827f-9fa1fc120836",
   "metadata": {},
   "outputs": [],
   "source": [
    "a=1.1  #float   . float point     we can do  x + / "
   ]
  },
  {
   "cell_type": "code",
   "execution_count": 37,
   "id": "14d72a7d-c2fb-415d-bb81-d7be9847fc38",
   "metadata": {},
   "outputs": [],
   "source": [
    "#سر فصل زدن دو هشتگ و در ابتدا خط  M"
   ]
  },
  {
   "cell_type": "markdown",
   "id": "a4622562-e1cd-4706-b890-4fbb4bacb49f",
   "metadata": {},
   "source": [
    "## string"
   ]
  },
  {
   "cell_type": "markdown",
   "id": "5482a365-65b9-42cf-87d2-6da7c1cabc67",
   "metadata": {},
   "source": [
    "1."
   ]
  },
  {
   "cell_type": "markdown",
   "id": "dd020b4c-bdfd-4232-8c99-fb5bdc4e49e5",
   "metadata": {},
   "source": [
    "## len function"
   ]
  },
  {
   "cell_type": "markdown",
   "id": "b7ed5ee0-8711-43cd-aad8-cfab492fee37",
   "metadata": {},
   "source": [
    "function"
   ]
  },
  {
   "cell_type": "markdown",
   "id": "4c7640e0-4cd7-44c0-98f7-0667f1498ffc",
   "metadata": {},
   "source": [
    "نام این کار مارک دان هست"
   ]
  },
  {
   "cell_type": "markdown",
   "id": "1dc5ef07-7392-4df0-81b7-2752447569f0",
   "metadata": {},
   "source": [
    "مارک دان روشی هست که می توان در ان عکس گذاشت و از نوت بوک برای نوشتن یادداشت استفاده کرد"
   ]
  },
  {
   "cell_type": "markdown",
   "id": "2374a9ca-7146-4ffe-b98a-abf372486dad",
   "metadata": {},
   "source": [
    "# header1"
   ]
  },
  {
   "cell_type": "markdown",
   "id": "e2e9c9ae-9d15-4d90-88cb-11c806b131bc",
   "metadata": {},
   "source": [
    "## header2"
   ]
  },
  {
   "cell_type": "markdown",
   "id": "b982b10b-dc70-401e-a125-939d15c359c0",
   "metadata": {},
   "source": [
    "### header3"
   ]
  },
  {
   "cell_type": "markdown",
   "id": "d3bbe89a-97c8-4db0-8627-040f3af5bc41",
   "metadata": {},
   "source": [
    "# INTHENAMEOFGOD"
   ]
  },
  {
   "cell_type": "markdown",
   "id": "a1623fe8-1758-475b-91cd-46d500440e91",
   "metadata": {},
   "source": [
    "## STATICS"
   ]
  },
  {
   "cell_type": "markdown",
   "id": "5ca2513d-53d8-49e5-af68-1183fbbb7c10",
   "metadata": {},
   "source": [
    "### CHAPTER1"
   ]
  },
  {
   "cell_type": "markdown",
   "id": "75f3b633-4027-47d2-be10-86ecf2605414",
   "metadata": {},
   "source": [
    "#### REVIEW"
   ]
  },
  {
   "cell_type": "markdown",
   "id": "15d69ae9-63ed-4818-968a-1aee987704f4",
   "metadata": {},
   "source": [
    "** TOLD"
   ]
  },
  {
   "cell_type": "markdown",
   "id": "5474ea45-1ada-4356-83ff-700dce9fe497",
   "metadata": {},
   "source": [
    "* TOLD"
   ]
  },
  {
   "cell_type": "markdown",
   "id": "d4146589-d055-4bae-87cf-c3eca592bced",
   "metadata": {},
   "source": [
    "** TOLD"
   ]
  },
  {
   "cell_type": "markdown",
   "id": "19dd19bd-da4c-4f36-b7c1-ecccc8991c5c",
   "metadata": {},
   "source": [
    "__told"
   ]
  },
  {
   "cell_type": "markdown",
   "id": "c7c0f525-84e3-44c8-8ffa-0808c2f9fc66",
   "metadata": {},
   "source": [
    "__told__"
   ]
  },
  {
   "cell_type": "markdown",
   "id": "cc3224f7-3374-484b-917e-9c502ac98689",
   "metadata": {},
   "source": [
    "**told**"
   ]
  },
  {
   "cell_type": "markdown",
   "id": "1b31da82-ad95-44b5-bab9-4bd0d9470c88",
   "metadata": {},
   "source": [
    "*told*"
   ]
  },
  {
   "cell_type": "markdown",
   "id": "326586ae-1eb7-4697-a88f-4e14a24302e4",
   "metadata": {},
   "source": [
    "***told***"
   ]
  },
  {
   "cell_type": "markdown",
   "id": "2d4b7a42-8b13-4adb-894e-cefa1b7113fc",
   "metadata": {},
   "source": [
    "$told$"
   ]
  },
  {
   "cell_type": "markdown",
   "id": "d19d4008-8e14-4c6c-87af-2aac14e80959",
   "metadata": {},
   "source": [
    "# unordered lists"
   ]
  },
  {
   "cell_type": "markdown",
   "id": "cc59868f-f7f6-4d9e-ab88-5bbf10e940a5",
   "metadata": {},
   "source": [
    "- item1"
   ]
  },
  {
   "cell_type": "markdown",
   "id": "56d67adf-4888-4fb8-a990-c96c2323dea9",
   "metadata": {},
   "source": [
    "+ i2"
   ]
  },
  {
   "cell_type": "markdown",
   "id": "3282ad91-966d-4c23-aab5-b0d20564ea7e",
   "metadata": {},
   "source": [
    "* t2"
   ]
  },
  {
   "cell_type": "markdown",
   "id": "fe5dc6b4-2ff4-4174-aa80-4c87523e2dc2",
   "metadata": {},
   "source": [
    "# ordered lists"
   ]
  },
  {
   "cell_type": "markdown",
   "id": "5826befe-e7ce-45d1-ba95-52d5816ab3fe",
   "metadata": {},
   "source": [
    "1."
   ]
  },
  {
   "cell_type": "markdown",
   "id": "afa74a6d-56af-4082-817a-a74185aaeb24",
   "metadata": {},
   "source": [
    "[visit Jupyter](http://localhost:8888/notebooks/Documents/advanced%20programming/Untitled1.ipynb?)"
   ]
  },
  {
   "cell_type": "markdown",
   "id": "7923585d-5ef0-479a-8515-cdd9c66b1dc1",
   "metadata": {},
   "source": [
    "man in "
   ]
  },
  {
   "cell_type": "markdown",
   "id": "835c2968-0d9b-444a-b7db-f950dc42e43a",
   "metadata": {},
   "source": [
    "![Alt text](IMG_2704.PNG)"
   ]
  },
  {
   "cell_type": "markdown",
   "id": "59ea83ba-573b-4def-9fb8-18b74f5ff661",
   "metadata": {},
   "source": [
    "![example image from subfolder](IMG_2704.PNG)"
   ]
  },
  {
   "cell_type": "markdown",
   "id": "e17dde48-76d4-46eb-a2f4-602577e8cde9",
   "metadata": {},
   "source": [
    "# 5.code blocks\n",
    "## Inline  code ` `  or ```     ```"
   ]
  },
  {
   "cell_type": "markdown",
   "id": "120934d2-9ca1-4d6b-a13b-2d6e51d5201b",
   "metadata": {},
   "source": [
    "use ` before and after text to highlight one or 3"
   ]
  },
  {
   "cell_type": "markdown",
   "id": "ac6e3c9d-0eae-45b6-a6db-aa8fa73bacf0",
   "metadata": {},
   "source": [
    "`saba`"
   ]
  },
  {
   "cell_type": "markdown",
   "id": "04e13f1f-7ada-4907-9d4a-5795ba8b6776",
   "metadata": {},
   "source": [
    "```saba```"
   ]
  },
  {
   "cell_type": "markdown",
   "id": "077e4188-3f16-46e6-80a2-1a4e1ea6cc8e",
   "metadata": {},
   "source": [
    "# blockquotes AND horizontal lines"
   ]
  },
  {
   "cell_type": "markdown",
   "id": "a3b5237a-f562-449c-8a76-5c2ca371dbfc",
   "metadata": {},
   "source": [
    "blockquotes use (>)"
   ]
  },
  {
   "cell_type": "markdown",
   "id": "c93481a2-d81b-40c6-beca-46d0467e43d8",
   "metadata": {},
   "source": [
    "> example1"
   ]
  },
  {
   "cell_type": "markdown",
   "id": "99bda716-f4e2-49e4-8247-d2a66fa7c937",
   "metadata": {},
   "source": [
    "horizontal lines use "
   ]
  },
  {
   "cell_type": "code",
   "execution_count": null,
   "id": "6744e7e6-b182-411a-8410-4ea852c4043f",
   "metadata": {},
   "outputs": [],
   "source": []
  },
  {
   "cell_type": "markdown",
   "id": "7bc00b35-2268-40c3-9735-d24d98c56a4b",
   "metadata": {},
   "source": [
    "# latex fot mathemathical expressions"
   ]
  },
  {
   "cell_type": "markdown",
   "id": "dfe9d35c-1a05-4ae5-a22d-e0545f6fe6d9",
   "metadata": {},
   "source": [
    "$ E=mc^2$"
   ]
  },
  {
   "cell_type": "markdown",
   "id": "6999e221-73f4-4e61-8721-f642da626374",
   "metadata": {},
   "source": [
    "$$E=mc^2$$"
   ]
  },
  {
   "cell_type": "markdown",
   "id": "6b83b0bc-5606-4488-adf1-e315274d5c70",
   "metadata": {},
   "source": [
    "# این طرف و ان طرف علامت$ برای خط اول برای اوردن وسط دو تا دلار "
   ]
  },
  {
   "cell_type": "code",
   "execution_count": null,
   "id": "1d26aa62-7348-4b66-96eb-dce44d3820ad",
   "metadata": {},
   "outputs": [],
   "source": []
  }
 ],
 "metadata": {
  "kernelspec": {
   "display_name": "Python 3 (ipykernel)",
   "language": "python",
   "name": "python3"
  },
  "language_info": {
   "codemirror_mode": {
    "name": "ipython",
    "version": 3
   },
   "file_extension": ".py",
   "mimetype": "text/x-python",
   "name": "python",
   "nbconvert_exporter": "python",
   "pygments_lexer": "ipython3",
   "version": "3.12.4"
  }
 },
 "nbformat": 4,
 "nbformat_minor": 5
}
